{
 "cells": [
  {
   "cell_type": "markdown",
   "metadata": {
    "extensions": {
     "jupyter_dashboards": {
      "version": 1,
      "views": {
       "grid_default": {},
       "report_default": {}
      }
     }
    },
    "pycharm": {
     "name": "#%% md\n"
    }
   },
   "source": [
    "## Verbindungsaufbau"
   ]
  },
  {
   "cell_type": "code",
   "execution_count": null,
   "metadata": {
    "extensions": {
     "jupyter_dashboards": {
      "version": 1,
      "views": {
       "grid_default": {},
       "report_default": {}
      }
     }
    },
    "pycharm": {
     "name": "#%%\n"
    }
   },
   "outputs": [],
   "source": [
    "from cqapi.user_editor import Conquery\n",
    "eva = Conquery()\n",
    "eva.login()"
   ]
  },
  {
   "cell_type": "code",
   "execution_count": null,
   "metadata": {
    "extensions": {
     "jupyter_dashboards": {
      "version": 1,
      "views": {
       "grid_default": {},
       "report_default": {}
      }
     }
    },
    "pycharm": {
     "name": "#%%\n"
    }
   },
   "outputs": [],
   "source": [
    "%matplotlib inline"
   ]
  },
  {
   "cell_type": "code",
   "execution_count": null,
   "metadata": {
    "extensions": {
     "jupyter_dashboards": {
      "version": 1,
      "views": {
       "grid_default": {},
       "report_default": {}
      }
     }
    },
    "pycharm": {
     "name": "#%%\n"
    }
   },
   "outputs": [],
   "source": [
    "import seaborn as sns\n",
    "from ipywidgets import interact\n",
    "from matplotlib import pyplot as plt\n",
    "sns.set(font_scale = 1.3)\n",
    "\n",
    "import numpy as np\n",
    "from matplotlib.colors import to_rgb, to_hex, to_rgba, ListedColormap\n",
    "\n",
    "ingef_color_rgb = [\n",
    "    [157, 29, 13],  # red\n",
    "    [50, 79, 95],  # dark blue\n",
    "    [152, 167, 175],  # blue\n",
    "    [218, 218, 218],  # gray\n",
    "    [204, 211, 215]  # light blue\n",
    "]\n",
    "\n",
    "yellow_in_hex = \"#cabb9f\"\n",
    "\n",
    "ingef_color_rgba = [[col / 256 for col in rgb_color] + [1] for rgb_color in ingef_color_rgb]\n",
    "\n",
    "ingefcmp = ListedColormap(colors=ingef_color_rgba, N=len(ingef_color_rgb))\n",
    "\n",
    "ingef_color_label_to_ind = {\n",
    "    \"gray\": 3,\n",
    "    \"light blue\": 4,\n",
    "    \"blue\": 2,\n",
    "    \"dark blue\": 1,\n",
    "    \"red\": 0\n",
    "}\n",
    "\n",
    "boxplot_saturation = 1\n",
    "\n",
    "\n",
    "def get_color_by_type(colormap=ingefcmp, color_type='rgb', color=None, tint_factor=0):\n",
    "    \"\"\"\n",
    "    Returns color or list of colors from colormap in color_type\n",
    "    :param colormap: colormap from which to choose from - default: ingefcmp\n",
    "    :param color_type: color_type (hex,rgba,rgb) - default: rgb\n",
    "    :param color: number of color in colormap. When None, all colors in a list - default: None\n",
    "    :param tint_factor: factor by which a tint of the color is created - default: 0 (no tint)\n",
    "    :return: color value(s)\n",
    "\n",
    "    Example:\n",
    "    1. use color for maplotlib (hex or rgba)\n",
    "       plt.fun(color=u_colors.get_color_by_type(color_type='hex', color=\"red\"))\n",
    "    \"\"\"\n",
    "    col_list = []\n",
    "\n",
    "    for col_ind in range(colormap.N):\n",
    "        # make tint of color\n",
    "        rgb_color = to_rgb(colormap(col_ind))\n",
    "        rgb_color_tint = tuple([col + (1 - col) * tint_factor for col in rgb_color])\n",
    "        c = rgb_color_tint\n",
    "\n",
    "        if color_type == 'hex':\n",
    "            col_list.append(to_hex(c))\n",
    "        elif color_type == 'rgb':\n",
    "            col_list.append(to_rgb(c))\n",
    "        elif color_type == 'rgba':\n",
    "            col_list.append(to_rgba(c))\n",
    "        else:\n",
    "            raise ValueError(f\"Unknown color type {color_type}\")\n",
    "\n",
    "    if color is None:\n",
    "        return col_list\n",
    "\n",
    "    if isinstance(color, int):\n",
    "        if color not in range(colormap.N):\n",
    "            raise ValueError(f\"Color as integer not in {range(colormap.N)}\")\n",
    "    elif isinstance(color, str):\n",
    "        color = ingef_color_label_to_ind.get(color, None)\n",
    "        if color is None:\n",
    "            raise ValueError(f\"Color as string not in {ingef_color_label_to_ind.keys()}\")\n",
    "    else:\n",
    "        raise ValueError(f\"Parameter {color=} must be of type int or str or None\")\n",
    "\n",
    "    return col_list[color]\n",
    "\n",
    "\n",
    "def get_quantile_colors(color: int = None, n_quantiles=4):\n",
    "    \"\"\"\n",
    "    Takes input color and creates n_quantiles shades of it\n",
    "    \"\"\"\n",
    "    if color is None:\n",
    "        color = 1\n",
    "    color_list = [get_color_by_type(color=color, tint_factor=i)\n",
    "                  for i in reversed(np.arange(0, 1, 1 / n_quantiles))]\n",
    "\n",
    "    return color_list\n",
    "\n",
    "\n",
    "def get_nan_color():\n",
    "    return to_rgb(yellow_in_hex)\n",
    "\n",
    "sns.set_palette(sns.color_palette(get_color_by_type(color_type='hex')))"
   ]
  },
  {
   "cell_type": "code",
   "execution_count": null,
   "metadata": {
    "extensions": {
     "jupyter_dashboards": {
      "version": 1,
      "views": {
       "grid_default": {},
       "report_default": {}
      }
     }
    },
    "pycharm": {
     "name": "#%%\n"
    }
   },
   "outputs": [],
   "source": [
    "def get_data(start_year, end_year):\n",
    "    start_date=f\"01.01.{start_year}\"\n",
    "    end_date=f\"31.12.{end_year}\"\n",
    "    \n",
    "    age_query = eva.new_query(concept_id=\"icd.f00-f99.f00-f09.f00\", start_date=start_date, end_date=end_date)\n",
    "    query = eva.new_absolute_export_query(editor_query=age_query,\n",
    "                                     start_date=start_date, end_date=end_date, resolution=\"QUARTERS\")\n",
    "    eva.add_feature_to_absolute_export_form_query(query=query,\n",
    "                                                         concept_id=\"alter\")\n",
    "    eva.add_feature_to_absolute_export_form_query(query=query,\n",
    "                                                         concept_id=\"geschlecht\")\n",
    "    eva.add_feature_to_absolute_export_form_query(query=query,\n",
    "                                                         concept_id=\"efn\")\n",
    "    eva.add_feature_to_absolute_export_form_query(query=query,\n",
    "                                                         concept_id=\"leistungskosten_2\")\n",
    "    \n",
    "    \n",
    "    data = eva.get_data(query)\n",
    "    data = data[data[\"Zeiteinheit\"] != \"Gesamt\"]\n",
    "    data[\"Zeit\"] = data[\"Zeiteinheit\"] + \" \" + (data[\"Index Zeiteinheit\"].astype(int) % 4 + 1).astype(str)\n",
    "    \n",
    "    return data\n",
    "data = get_data(\"2018\", \"2021\")"
   ]
  },
  {
   "cell_type": "code",
   "execution_count": null,
   "metadata": {
    "extensions": {
     "jupyter_dashboards": {
      "version": 1,
      "views": {
       "grid_default": {},
       "report_default": {}
      }
     }
    },
    "pycharm": {
     "name": "#%%\n"
    }
   },
   "outputs": [],
   "source": [
    "import numpy as np\n",
    "def plotting(data, year):\n",
    "    \n",
    "    rows = data[\"Zeitraum\"].apply(lambda x: x[\"min\"].year == year)\n",
    "    data = data[rows].sort_values(by=\"Zeit\")\n",
    "        \n",
    "    year_rows = data[\"Zeiteinheit\"] == \"Jahr\" \n",
    "    quarter_rows = data[\"Zeiteinheit\"] == \"Quartal\"\n",
    "    \n",
    "    fig, axes = plt.subplots(2,2, figsize=(15,15))\n",
    "    \n",
    "    axes[0][0].set_title(\"Altersverteilung\", fontsize=20)\n",
    "    sns.histplot(ax=axes[0][0], data=data[year_rows], x=\"Alter - Ausgabe Alter\")\n",
    "    axes[0][0].set(xlabel=None, ylabel=None)\n",
    "    \n",
    "    axes[0][1].set_title(\"Geschlechterverteilung\", fontsize=20)\n",
    "    sns.countplot(ax=axes[0][1], data=data[year_rows], x=\"Geschlecht - Ausgabe Geschlecht\")\n",
    "    axes[0][1].set(xlabel=None, ylabel=None)\n",
    "    \n",
    "    axes[1][0].set_title(\"Arztfälle\", fontsize=20)\n",
    "    sns.lineplot(ax=axes[1][0], data=data[quarter_rows], x=\"Zeit\", y=\"Arztfälle (Gesamt) - Anzahl Arztfälle\",\n",
    "                estimator=np.sum)\n",
    "    axes[1][0].set(xlabel=None, ylabel=None)\n",
    "    #sns.countplot(ax=axes[1][0], data=data[quarter_rows & (~data[\"Arztfälle (Gesamt) - Anzahl Arztfälle\"].isna())], x=\"Zeit\")\n",
    "\n",
    "    axes[1][1].set_title(\"Leistungskosten\", fontsize=20)                                           \n",
    "    sns.lineplot(ax=axes[1][1], data=data[quarter_rows], x=\"Zeit\", \n",
    "                 y=\"Leistungskosten (KH+AM+AMB+DIA+HIMI+HEMI ohne KG) - Kostensumme\",\n",
    "                estimator=np.sum)\n",
    "    axes[1][1].xaxis.set_major_formatter(ScalarFormatter())\n",
    "    axes[1][1].ticklabel_format(style='plain')\n",
    "    axes[1][1].set(xlabel=None, ylabel=None)"
   ]
  },
  {
   "cell_type": "code",
   "execution_count": null,
   "metadata": {
    "pycharm": {
     "name": "#%%\n"
    }
   },
   "outputs": [],
   "source": [
    "from matplotlib.ticker import ScalarFormatter"
   ]
  },
  {
   "cell_type": "code",
   "execution_count": null,
   "metadata": {
    "extensions": {
     "jupyter_dashboards": {
      "version": 1,
      "views": {
       "grid_default": {},
       "report_default": {}
      }
     }
    },
    "pycharm": {
     "name": "#%%\n"
    }
   },
   "outputs": [],
   "source": [
    "@interact(Jahr=[2018, 2019, 2020, 2021])\n",
    "def plot(Jahr):\n",
    "    plotting(data.copy(), Jahr)    "
   ]
  }
 ],
 "metadata": {
  "extensions": {
   "jupyter_dashboards": {
    "activeView": "grid_default",
    "version": 1,
    "views": {
     "grid_default": {
      "cellMargin": 10,
      "defaultCellHeight": 20,
      "maxColumns": 12,
      "name": "grid",
      "type": "grid"
     },
     "report_default": {
      "name": "report",
      "type": "report"
     }
    }
   }
  },
  "kernelspec": {
   "display_name": "Python 3 (ipykernel)",
   "language": "python",
   "name": "python3"
  },
  "language_info": {
   "codemirror_mode": {
    "name": "ipython",
    "version": 3
   },
   "file_extension": ".py",
   "mimetype": "text/x-python",
   "name": "python",
   "nbconvert_exporter": "python",
   "pygments_lexer": "ipython3",
   "version": "3.8.2"
  }
 },
 "nbformat": 4,
 "nbformat_minor": 1
}