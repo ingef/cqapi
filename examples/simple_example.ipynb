{
 "cells": [
  {
   "cell_type": "code",
   "execution_count": null,
   "id": "e6cf9b9b",
   "metadata": {
    "pycharm": {
     "name": "#%%\n"
    }
   },
   "outputs": [],
   "source": [
    "from cqapi.user_editor import Conquery, ConqueryConnection\n",
    "eva = Conquery()\n",
    "\n",
    "eva.conn = ConqueryConnection(url=\"https://eva.ingef.de\", token=open(\"./fdb_token\").read())"
   ]
  },
  {
   "cell_type": "code",
   "execution_count": null,
   "id": "c7e62707",
   "metadata": {
    "pycharm": {
     "name": "#%%\n"
    }
   },
   "outputs": [],
   "source": [
    "query = eva.from_existing_query(\"Diabetes-Bayern-60\", get_original=True)"
   ]
  },
  {
   "cell_type": "code",
   "execution_count": null,
   "id": "c2d8d06c",
   "metadata": {
    "pycharm": {
     "name": "#%%\n"
    }
   },
   "outputs": [],
   "source": [
    "eva.get_data(query)"
   ]
  },
  {
   "cell_type": "code",
   "execution_count": null,
   "id": "e6cd2b82",
   "metadata": {
    "pycharm": {
     "name": "#%%\n"
    }
   },
   "outputs": [],
   "source": [
    "query.show_json()"
   ]
  },
  {
   "cell_type": "code",
   "execution_count": null,
   "id": "f363f8c4",
   "metadata": {
    "pycharm": {
     "name": "#%%\n"
    }
   },
   "outputs": [],
   "source": [
    "eva.search_concept(\"icd\", \"diabetes\")"
   ]
  },
  {
   "cell_type": "code",
   "execution_count": null,
   "id": "9eb43c0c",
   "metadata": {
    "pycharm": {
     "name": "#%%\n"
    }
   },
   "outputs": [],
   "source": [
    "from cqapi.queries.base_elements import create_query\n",
    "features= [\n",
    "    create_query(concept_id=\"fdb_destatis.ambulante_kosten\", concepts=eva.concepts.concepts),\n",
    "    create_query(concept_id=\"fdb_destatis.arzneimittelkosten_brutto\", concepts=eva.concepts.concepts),\n",
    "    create_query(concept_id=\"fdb_destatis.krankenhauskosten\", concepts=eva.concepts.concepts)\n",
    "]\n",
    "export_query = eva.new_absolute_export_query(editor_query=eva.conn.execute_query(query),\n",
    "                                             start_date=\"01.01.2018\",\n",
    "                                             end_date=\"31.12.2021\",\n",
    "                                             features=features,resolution=\"YEARS\")\n",
    "\n",
    "data = eva.get_data(export_query)\n",
    "data.head()"
   ]
  },
  {
   "cell_type": "code",
   "execution_count": null,
   "id": "ed1282fa",
   "metadata": {
    "pycharm": {
     "name": "#%%\n"
    }
   },
   "outputs": [],
   "source": [
    "import pandas as pd\n",
    "\n",
    "data=data[data[\"Zeiteinheit\"] == \"Jahr\"]\n",
    "data[\"Jahr\"] = data[\"Zeitraum\"].apply(lambda x: x[\"min\"].year)\n",
    "\n",
    "data_to_plot = pd.concat([data[[\"Jahr\", cost_col]].assign(Bereich=cost_col).rename(columns={cost_col:\"Kosten\"}) \n",
    "                          for cost_col in [\"Arzneimittelkosten (Brutto)\", \"Ambulante Kosten\", \"Krankenhauskosten\"]])"
   ]
  },
  {
   "cell_type": "code",
   "execution_count": null,
   "id": "79c776aa",
   "metadata": {
    "pycharm": {
     "name": "#%%\n"
    }
   },
   "outputs": [],
   "source": [
    "import seaborn as sns\n",
    "sns.set(rc={'figure.figsize':(12,8)})\n",
    "sns.barplot(data=data_to_plot, x=\"Jahr\", y=\"Kosten\", hue=\"Bereich\", palette=\"Reds\")"
   ]
  },
  {
   "cell_type": "code",
   "execution_count": null,
   "id": "daf8665c",
   "metadata": {
    "pycharm": {
     "name": "#%%\n"
    }
   },
   "outputs": [],
   "source": []
  }
 ],
 "metadata": {
  "kernelspec": {
   "display_name": "Python 3 (ipykernel)",
   "language": "python",
   "name": "python3"
  },
  "language_info": {
   "codemirror_mode": {
    "name": "ipython",
    "version": 3
   },
   "file_extension": ".py",
   "mimetype": "text/x-python",
   "name": "python",
   "nbconvert_exporter": "python",
   "pygments_lexer": "ipython3",
   "version": "3.9.11"
  }
 },
 "nbformat": 4,
 "nbformat_minor": 5
}