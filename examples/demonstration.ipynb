{
 "cells": [
  {
   "cell_type": "markdown",
   "metadata": {},
   "source": [
    "## Verbindungsaufbau"
   ]
  },
  {
   "cell_type": "code",
   "execution_count": null,
   "metadata": {},
   "outputs": [],
   "source": [
    "from cqapi.user_editor import Conquery\n",
    "eva = Conquery()\n",
    "eva.login()"
   ]
  },
  {
   "cell_type": "markdown",
   "metadata": {},
   "source": [
    "## Zugang zu bereits Gespeicherte Anfragen"
   ]
  },
  {
   "cell_type": "code",
   "execution_count": null,
   "metadata": {},
   "outputs": [],
   "source": [
    "query = eva.from_existing_query(\"Anfrage_14_02\", get_original=True)"
   ]
  },
  {
   "cell_type": "code",
   "execution_count": null,
   "metadata": {},
   "outputs": [],
   "source": [
    "eva.get_data(query)"
   ]
  },
  {
   "cell_type": "code",
   "execution_count": null,
   "metadata": {},
   "outputs": [],
   "source": [
    "query.show_json()"
   ]
  },
  {
   "cell_type": "markdown",
   "metadata": {},
   "source": [
    "## Erstellen eigener Anfragen"
   ]
  },
  {
   "cell_type": "code",
   "execution_count": null,
   "metadata": {},
   "outputs": [],
   "source": [
    "eva.show_concepts()"
   ]
  },
  {
   "cell_type": "code",
   "execution_count": null,
   "metadata": {},
   "outputs": [],
   "source": [
    "eva.search_concept(\"icd\", \"covid\")"
   ]
  },
  {
   "cell_type": "code",
   "execution_count": null,
   "metadata": {},
   "outputs": [],
   "source": [
    "eva.show_concept(\"icd\", show_all=False)"
   ]
  },
  {
   "cell_type": "code",
   "execution_count": null,
   "metadata": {},
   "outputs": [],
   "source": [
    "eva.show_connector(\"icd.kh_diagnose_icd_code\")"
   ]
  },
  {
   "cell_type": "code",
   "execution_count": null,
   "metadata": {},
   "outputs": [],
   "source": [
    "query = eva.new_query(concept_id=\"icd.u00-u99.u00-u49.u07.u07_1\", \n",
    "                      connector_ids=[\"icd.kh_diagnose_icd_code\"],\n",
    "                      select_ids=[\"icd.kh_diagnose_icd_code.anzahl_krankenhausfaelle\",\n",
    "                                  \"icd.kh_diagnose_icd_code.anzahl_krankenhaustage\",\n",
    "                                  \"icd.kh_diagnose_icd_code.liste_erster_aufnahmetag\",\n",
    "                                  \"icd.kh_diagnose_icd_code.summe_beatmung_std\"],\n",
    "                      start_date=\"01.01.2021\", end_date=\"31.12.2021\")"
   ]
  },
  {
   "cell_type": "code",
   "execution_count": null,
   "metadata": {},
   "outputs": [],
   "source": [
    "query.show_json()"
   ]
  },
  {
   "cell_type": "code",
   "execution_count": null,
   "metadata": {},
   "outputs": [],
   "source": [
    "data = eva.get_data(query)\n",
    "\n",
    "data"
   ]
  },
  {
   "cell_type": "code",
   "execution_count": null,
   "metadata": {},
   "outputs": [],
   "source": [
    "import seaborn as sns\n",
    "data[\"Aufnahmewoche\"] = data[\"ICD U07.1 KH-Diagnose Ausgabe erster Aufnahmetag\"].apply(lambda x: x.week % 52)\n",
    "data[\"Aufnahmejahr\"] = data[\"ICD U07.1 KH-Diagnose Ausgabe erster Aufnahmetag\"].apply(lambda x: x.year)\n",
    "data = data[data[\"Aufnahmejahr\"] == 2021]\n",
    "sns.histplot(data=data, x=\"Aufnahmewoche\", binwidth=1)"
   ]
  }
 ],
 "metadata": {
  "kernelspec": {
   "display_name": "Python 3 (ipykernel)",
   "language": "python",
   "name": "python3"
  },
  "language_info": {
   "codemirror_mode": {
    "name": "ipython",
    "version": 3
   },
   "file_extension": ".py",
   "mimetype": "text/x-python",
   "name": "python",
   "nbconvert_exporter": "python",
   "pygments_lexer": "ipython3",
   "version": "3.8.2"
  }
 },
 "nbformat": 4,
 "nbformat_minor": 1
}
