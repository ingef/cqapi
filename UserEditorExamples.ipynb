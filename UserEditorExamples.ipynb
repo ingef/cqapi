{
 "cells": [
  {
   "cell_type": "markdown",
   "id": "adaptive-council",
   "metadata": {},
   "source": [
    "# cqapi - Beispiele"
   ]
  },
  {
   "cell_type": "markdown",
   "id": "alternative-indiana",
   "metadata": {},
   "source": [
    "## Editor\n",
    "Der Editor versucht eine nutzerfreundliche Verbindung zur EVA aufzubauen und das Erstellen von Anfragen zu vereinfachen. \n",
    "Als erstes wird der Nutzer über die `login`-Methode mit EVA verbunden. Wenn das Fenster \"Authentifizierung erfolgreich\" erscheint, ist der Editor einsatzbereit"
   ]
  },
  {
   "cell_type": "code",
   "execution_count": null,
   "id": "popular-force",
   "metadata": {},
   "outputs": [],
   "source": [
    "from cqapi.user_editor import Conquery\n",
    "eva = Conquery()\n",
    "eva.login()"
   ]
  },
  {
   "cell_type": "markdown",
   "id": "deluxe-governor",
   "metadata": {},
   "source": [
    "### Entdecken von Konzepten, Quellen und Ausgabewerten und deren IDs\n",
    "Kern der EVA-Anfragen über die cqapi sind die eva-ids. Jedes Element hat eine einzigartige ID.  \n",
    "Beispiel:  \n",
    "  * Das Konzept \"Alter\" hat die ID `alter`\n",
    "  * das Konzept \"Bundesland und Gemeindeschlüssel\" die ID `bundesland_und_kgs`\n",
    "\n",
    "Die Konzepte mit ihren zugehörigen IDs zeigt der Editor über die Methode `show_concepts` an."
   ]
  },
  {
   "cell_type": "code",
   "execution_count": null,
   "id": "instrumental-subscription",
   "metadata": {},
   "outputs": [],
   "source": [
    "eva.show_concepts()"
   ]
  },
  {
   "cell_type": "markdown",
   "id": "optical-compound",
   "metadata": {},
   "source": [
    "Die IDs folgen einer hierarchischen Struktur. Die ID eines Kindelements enthält die ID des Elternelements (`<eltern_element_id>.<unterelement_id>`).\n",
    "Beispiel: \n",
    "  * die Quelle \"Arzt-Diagnose\" des Konzepts \"ICD\" hat die ID `icd.arzt_diagnose_icd_code`\n",
    "  * die Quelle \"ATC\" des Konzepts \"ATC\" hat die ID `atc.atc`\n",
    "  * Der Ausgabewert \"Liegt vor\" des Konzepts \"ATC\" hat die ID `atc.exists`\n",
    "  * Der Ausgabewert \"Summe DDD\" der Quelle \"ATC\" hat die ID `atc.atc.summe_ddd`\n",
    "  \n",
    "Der Großteil der Konzepte hat nur eine Quelle, diese trägt den Namen des Konzepts.  \n",
    "\n",
    "Die Elemente eines Konzeptes können mit der Methode `show_concept`-Methode angezeigt werden:"
   ]
  },
  {
   "cell_type": "code",
   "execution_count": null,
   "id": "underlying-power",
   "metadata": {},
   "outputs": [],
   "source": [
    "eva.show_concept(\"atc\")"
   ]
  },
  {
   "cell_type": "markdown",
   "id": "sharing-dating",
   "metadata": {},
   "source": [
    "Bei größeren Konzepten können mit dem Parameter `show_all=False` nur die Quellen angegeben werden"
   ]
  },
  {
   "cell_type": "code",
   "execution_count": null,
   "id": "stable-desire",
   "metadata": {},
   "outputs": [],
   "source": [
    "eva.show_concept(\"icd\", show_all=False)"
   ]
  },
  {
   "cell_type": "markdown",
   "id": "jewish-wednesday",
   "metadata": {},
   "source": [
    "Elemente einer Quelle können über die Methode `show_connector` angezeigt werden"
   ]
  },
  {
   "cell_type": "code",
   "execution_count": null,
   "id": "coupled-catalog",
   "metadata": {},
   "outputs": [],
   "source": [
    "eva.show_connector(\"icd.arzt_diagnose_icd_code\")"
   ]
  },
  {
   "cell_type": "markdown",
   "id": "charming-mobility",
   "metadata": {},
   "source": [
    "#### Konzepte suchen\n",
    "Um Unterknoten eines Konzepts zu finden gibt es die Methode `search_concept`"
   ]
  },
  {
   "cell_type": "code",
   "execution_count": null,
   "id": "driven-mason",
   "metadata": {},
   "outputs": [],
   "source": [
    "eva.search_concept(\"atc\", \"Memantin\")"
   ]
  },
  {
   "cell_type": "code",
   "execution_count": null,
   "id": "creative-comfort",
   "metadata": {},
   "outputs": [],
   "source": [
    "eva.search_concept(\"icd\", \"Diabetes\")"
   ]
  },
  {
   "cell_type": "markdown",
   "id": "concerned-triangle",
   "metadata": {},
   "source": [
    "## Anfragen erstellen - das Query Objekt\n",
    "Mit den richtigen IDs können nun Anfragen erstellt werden. Dafür gibt es die Methode `new_query`, welche EVA-Ids annimmt und ein `Query`-Objekt zurück gibt. Wenn außer der Konzept-ID keine weiteren Parameter angegeben werden, werden die Standard-Einstellungen angewandt. Im Fall von ATC wird die Default-Quelle \"ATC\" und der Ausgabewert \"Liegt vor\" ausgewählt. "
   ]
  },
  {
   "cell_type": "code",
   "execution_count": null,
   "id": "amended-championship",
   "metadata": {},
   "outputs": [],
   "source": [
    "query = eva.new_query(concept_id=\"atc.n.n06.n06d.n06da.n06da52\")"
   ]
  },
  {
   "cell_type": "markdown",
   "id": "illegal-transformation",
   "metadata": {},
   "source": [
    "Mit der Methode `show_json`, kann die JSON ausgegeben werden, welche alle Informationen der Anfrage enthält und welche bei einer Ausführung an die EVA geschickt wird"
   ]
  },
  {
   "cell_type": "code",
   "execution_count": null,
   "id": "hungry-collect",
   "metadata": {},
   "outputs": [],
   "source": [
    "query.show_json()"
   ]
  },
  {
   "cell_type": "markdown",
   "id": "permanent-karma",
   "metadata": {},
   "source": [
    "Mit den richtigen Parametern können Default-Einstellungen überschrieben werden"
   ]
  },
  {
   "cell_type": "code",
   "execution_count": null,
   "id": "single-subcommittee",
   "metadata": {},
   "outputs": [],
   "source": [
    "query = eva.new_query(concept_id=\"atc.n.n06.n06d.n06da.n06da52\", select_ids=[\"atc.atc.summe_ddd\"])"
   ]
  },
  {
   "cell_type": "code",
   "execution_count": null,
   "id": "international-focus",
   "metadata": {},
   "outputs": [],
   "source": [
    "query.show_json()"
   ]
  },
  {
   "cell_type": "markdown",
   "id": "basic-vaccine",
   "metadata": {},
   "source": [
    "### Anfragen vereinigen\n",
    "Anfragen können über die Methode `join_and` und `join_or` verundet bzw. verodert werden.  \n",
    "Beispiel: Hier verunden wir die Personen, welche das Medikament Memantin bekommen mit dem Personen, die Alzheimer diagnostiziert bekommen haben."
   ]
  },
  {
   "cell_type": "code",
   "execution_count": null,
   "id": "tight-member",
   "metadata": {},
   "outputs": [],
   "source": [
    "second_query = eva.new_query(concept_id=\"icd.e00-e90.e10-e14\", \n",
    "                                    select_ids=[\"icd.arzt_diagnose_icd_code.anzahl_arztfaelle\"])\n",
    "query.join_and(second_query)"
   ]
  },
  {
   "cell_type": "code",
   "execution_count": null,
   "id": "instrumental-dependence",
   "metadata": {},
   "outputs": [],
   "source": [
    "query.show_json()"
   ]
  },
  {
   "cell_type": "markdown",
   "id": "musical-hello",
   "metadata": {},
   "source": [
    "Um das Alter der Personen zu bekommen, vereinigen wir die Anfrage noch mit dem Alter-Konzept"
   ]
  },
  {
   "cell_type": "code",
   "execution_count": null,
   "id": "unavailable-dublin",
   "metadata": {},
   "outputs": [],
   "source": [
    "age_query = eva.new_query(concept_id=\"alter\")\n",
    "query.join_and(age_query)"
   ]
  },
  {
   "cell_type": "markdown",
   "id": "engaging-chancellor",
   "metadata": {},
   "source": [
    "Abschließend beschränken wir die Anfrage auf das Jahr 2020"
   ]
  },
  {
   "cell_type": "code",
   "execution_count": null,
   "id": "responsible-deadline",
   "metadata": {},
   "outputs": [],
   "source": [
    "query.date_restriction(start_date=\"01.01.2020\", end_date=\"31.12.2020\")"
   ]
  },
  {
   "cell_type": "markdown",
   "id": "silent-consequence",
   "metadata": {},
   "source": [
    "### Anfragen ausführen\n",
    "\n",
    "Um eine Anfrage auszuführen und das Ergebnis zu erhalten gibt es die Methode `get_data`."
   ]
  },
  {
   "cell_type": "code",
   "execution_count": null,
   "id": "cooked-ultimate",
   "metadata": {},
   "outputs": [],
   "source": [
    "eva.get_data(query)"
   ]
  },
  {
   "cell_type": "markdown",
   "id": "ruled-colleague",
   "metadata": {},
   "source": [
    "Für größere Anfragen ist es besser diese erst auszuführen und erst herunterzuladen, wenn die Anfrage fertig berechnet wurde: "
   ]
  },
  {
   "cell_type": "code",
   "execution_count": null,
   "id": "detailed-staff",
   "metadata": {},
   "outputs": [],
   "source": [
    "eva.execute(query)"
   ]
  },
  {
   "cell_type": "code",
   "execution_count": null,
   "id": "amino-butter",
   "metadata": {},
   "outputs": [],
   "source": [
    "eva.check_execution()"
   ]
  },
  {
   "cell_type": "code",
   "execution_count": null,
   "id": "extended-behavior",
   "metadata": {},
   "outputs": [],
   "source": [
    "query.download()"
   ]
  },
  {
   "cell_type": "markdown",
   "id": "musical-consciousness",
   "metadata": {},
   "source": [
    "## Im Frontend erstellte Anfragen\n",
    "Über die Methode `from_existing_query` kann über das Label einer bereits erstellt Anfrage die Anfrage geladen werden"
   ]
  },
  {
   "cell_type": "code",
   "execution_count": null,
   "id": "consolidated-replica",
   "metadata": {},
   "outputs": [],
   "source": [
    "old_query = eva.from_existing_query(\"test\")\n",
    "eva.download(old_query)"
   ]
  },
  {
   "cell_type": "markdown",
   "id": "bca14fa9",
   "metadata": {
    "pycharm": {
     "name": "#%% md\n"
    }
   },
   "source": [
    "# Export-Formular-Anfragen"
   ]
  },
  {
   "cell_type": "code",
   "execution_count": null,
   "id": "579c7ac8",
   "metadata": {
    "pycharm": {
     "name": "#%%\n"
    }
   },
   "outputs": [],
   "source": [
    "query = eva.new_query(concept_id=\"atc.n.n06\", select_ids=[\"atc.atc.summe_ddd\"])\n",
    "export_query = eva.new_absolute_export_query(editor_query=query,\n",
    "                                             start_date=\"01.01.2020\",\n",
    "                                             end_date=\"31.12.2020\")\n",
    "eva.add_feature_to_absolute_export_form_query(query=export_query,\n",
    "                                              concept_id=\"atc\",\n",
    "                                              select_ids=[\"atc.atc.anzahl_packungen_select\",\n",
    "                                                          \"atc.atc.summe_ddd\"])\n",
    "eva.get_data(export_query)"
   ]
  }
 ],
 "metadata": {
  "kernelspec": {
   "display_name": "Python 3 (ipykernel)",
   "language": "python",
   "name": "python3"
  },
  "language_info": {
   "codemirror_mode": {
    "name": "ipython",
    "version": 3
   },
   "file_extension": ".py",
   "mimetype": "text/x-python",
   "name": "python",
   "nbconvert_exporter": "python",
   "pygments_lexer": "ipython3",
   "version": "3.8.2"
  }
 },
 "nbformat": 4,
 "nbformat_minor": 5
}
